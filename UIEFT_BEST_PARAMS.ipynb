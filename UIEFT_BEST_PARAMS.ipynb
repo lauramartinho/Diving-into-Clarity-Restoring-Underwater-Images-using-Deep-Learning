{
  "cells": [
    {
      "cell_type": "markdown",
      "metadata": {
        "id": "9MXOzisoLiax"
      },
      "source": [
        "# **UIEFT**"
      ]
    },
    {
      "cell_type": "markdown",
      "metadata": {
        "id": "R1DQTzfKZHnT"
      },
      "source": [
        "## **Essencial**"
      ]
    },
    {
      "cell_type": "markdown",
      "metadata": {
        "id": "jHHSr8eC1Na7"
      },
      "source": [
        "### **Bibliotecas e funcoes**"
      ]
    },
    {
      "cell_type": "code",
      "execution_count": null,
      "metadata": {
        "colab": {
          "background_save": true
        },
        "id": "dd422sGXzdu_"
      },
      "outputs": [],
      "source": [
        "import cv2\n",
        "\n",
        "from scipy import ndimage\n",
        "from scipy.ndimage import gaussian_filter\n",
        "\n",
        "from PIL import Image, ImageOps\n",
        "\n",
        "from skimage.metrics import peak_signal_noise_ratio, structural_similarity\n",
        "from skimage import io, color, filters, measure\n",
        "\n",
        "import math\n",
        "import numpy as np\n",
        "\n",
        "import os\n",
        "import sys\n",
        "from glob import glob\n",
        "from os.path import join\n",
        "from ntpath import basename"
      ]
    },
    {
      "cell_type": "markdown",
      "metadata": {
        "id": "MtDAHO6u1b26"
      },
      "source": [
        "### **Pipeline**"
      ]
    },
    {
      "cell_type": "code",
      "execution_count": null,
      "metadata": {
        "colab": {
          "background_save": true
        },
        "id": "vCU62WrBznyx"
      },
      "outputs": [],
      "source": [
        "def colorCorrection(imagem, intensidade):\n",
        "  resultados = [] #vetor para receber os resultados das trasnformações\n",
        "  rgb = cv2.split(imagem) #acesso a cada canal de cor\n",
        "  saturacao = rgb[0].shape[0] * rgb[0].shape[1] * intensidade / 500.0 #200\n",
        "  for canal in rgb:\n",
        "      histograma = cv2.calcHist([canal], [0], None, [256], (0,256), accumulate=False)\n",
        "      #low value\n",
        "      lowvalue = np.searchsorted(np.cumsum(histograma), saturacao) #soma acumulada dos elementos valor inferior do histograma e encontra índices onde os elementos devem ser inseridos p/ ordenar\n",
        "      #high value\n",
        "      highvalue = 255-np.searchsorted(np.cumsum(histograma[::-1]), saturacao)#soma acumulada e sort valores superiores\n",
        "      #tomar toda a informação (min/max) da curva linear para aplicar e gerar uma LUT de 256 valores a aplicar nos canais stretching\n",
        "      lut = np.array([0 if i < lowvalue else (255 if i > highvalue else round(float(i-lowvalue)/float(highvalue-lowvalue)*255)) for i in np.arange(0, 256)], dtype=\"uint8\")\n",
        "      #mescla os canais de volta\n",
        "      resultados.append(cv2.LUT(canal, lut))\n",
        "  return cv2.merge(resultados)"
      ]
    },
    {
      "cell_type": "code",
      "execution_count": null,
      "metadata": {
        "colab": {
          "background_save": true
        },
        "id": "cczdJXrfzpfd"
      },
      "outputs": [],
      "source": [
        "def gammaCorrection(image, gamma):  #0.7\n",
        "#construir uma tabela de novos valores mapeados de pixel [0, 255] para seus valores gama ajustados\n",
        "  invGamma = 1.0 / gamma\n",
        "  table = np.array([((i / 255.0) ** invGamma) * 255\n",
        "  for i in np.arange(0, 256)]).astype(\"uint8\")\n",
        "  #aplicar a correção\n",
        "  return cv2.LUT(image, table)"
      ]
    },
    {
      "cell_type": "code",
      "execution_count": null,
      "metadata": {
        "colab": {
          "background_save": true
        },
        "id": "w1kHsbvIzrOG"
      },
      "outputs": [],
      "source": [
        "def mascaraNitidez(imagem, sigma, intensidade, kernel=(5, 5), threshold=0): #sigma 1.0/ 0.5, intensidade 2.0/ 1.0\n",
        "  suavizacao = cv2.GaussianBlur(imagem, kernel, sigma)\n",
        "  nitidez = float(intensidade + 1) * imagem - float(intensidade) * suavizacao\n",
        "  nitidez = np.maximum(nitidez, np.zeros(nitidez.shape))\n",
        "  nitidez = np.minimum(nitidez, 255 * np.ones(nitidez.shape))\n",
        "  nitidez = nitidez.round().astype(np.uint8)\n",
        "  if threshold > 0:\n",
        "      contraste_baixo = np.absolute(imagem - suavizacao) < threshold\n",
        "      np.copyto(nitidez, imagem, where=contraste_baixo)\n",
        "  return nitidez"
      ]
    },
    {
      "cell_type": "code",
      "execution_count": null,
      "metadata": {
        "colab": {
          "background_save": true
        },
        "id": "R3M3tVP_zs70"
      },
      "outputs": [],
      "source": [
        "def CLAHE(imagem):\n",
        "  clahe = cv2.createCLAHE(clipLimit=4, tileGridSize=(4, 4))\n",
        "  for i in range(3):\n",
        "    imagem[:, :, i] = clahe.apply((imagem[:, :, i]))\n",
        "  return imagem"
      ]
    },
    {
      "cell_type": "code",
      "execution_count": null,
      "metadata": {
        "colab": {
          "background_save": true
        },
        "id": "XmNy5hVXzuan"
      },
      "outputs": [],
      "source": [
        "def add(a ,b, alfa, beta):\n",
        "  fusao = cv2.addWeighted(a, alfa, b, beta, 0) #combina duas imagens\n",
        "  #0.5/0.5 valores alfa e beta\n",
        "  return fusao\n",
        "\n",
        "def enhacement(imagem, brightness, contrast): #b=5 c=10\n",
        "  img = np.int16(imagem)\n",
        "  img = img * (contrast/127+1) - contrast + brightness\n",
        "  img = np.clip(img, 0, 255)\n",
        "  final = np.uint8(img)\n",
        "  return final"
      ]
    },
    {
      "cell_type": "markdown",
      "metadata": {
        "id": "11q9lmkx1gox"
      },
      "source": [
        "### **Main**"
      ]
    },
    {
      "cell_type": "code",
      "execution_count": null,
      "metadata": {
        "colab": {
          "background_save": true
        },
        "id": "pZBpATAKzx56"
      },
      "outputs": [],
      "source": [
        "def UWE(image, cci, gamma, alfa, beta, sigma=0.5, intensidade=1.0, brightness=5, contrast=10):\n",
        "\n",
        "  colorCorrected = colorCorrection(image, cci)\n",
        "#   cv2_imshow(colorCorrected)\n",
        "  gammaCorrected = gammaCorrection(colorCorrected, gamma)\n",
        "#   cv2_imshow(gammaCorrected)\n",
        "  edgeEnhacement = mascaraNitidez(gammaCorrected, sigma, intensidade)\n",
        "#   cv2_imshow(edgeEnhacement)\n",
        "  clahe = CLAHE(colorCorrected)\n",
        "#   cv2_imshow(clahe)\n",
        "  gammaCorrected2 = gammaCorrection(colorCorrected, gamma)\n",
        "#   cv2_imshow(gammaCorrected2)\n",
        "  edgeEnhacement2 = mascaraNitidez(gammaCorrected2, sigma, intensidade)\n",
        "#   cv2_imshow(edgeEnhacement2)\n",
        "  fusao = add(edgeEnhacement, edgeEnhacement2, alfa, beta)\n",
        "#   cv2_imshow(fusao)\n",
        "\n",
        "  output = enhacement(fusao, brightness, contrast)\n",
        "\n",
        "  return output"
      ]
    },
    {
      "cell_type": "markdown",
      "metadata": {
        "id": "p0YFHjQD1jsS"
      },
      "source": [
        "### **Evaluation**"
      ]
    },
    {
      "cell_type": "code",
      "execution_count": null,
      "metadata": {
        "id": "7jow8S2crZ-C"
      },
      "outputs": [],
      "source": [
        "def getUCIQE(img):\n",
        "    img_BGR = img\n",
        "    img_LAB = cv2.cvtColor(img_BGR, cv2.COLOR_BGR2LAB)\n",
        "    img_LAB = np.array(img_LAB,dtype=np.float64)\n",
        "    # Trained coefficients are c1=0.4680, c2=0.2745, c3=0.2576 according to paper.\n",
        "    coe_Metric = [0.4680, 0.2745, 0.2576]\n",
        "\n",
        "    img_lum = img_LAB[:,:,0]/255.0\n",
        "    img_a = img_LAB[:,:,1]/255.0\n",
        "    img_b = img_LAB[:,:,2]/255.0\n",
        "\n",
        "    # item-1\n",
        "    chroma = np.sqrt(np.square(img_a)+np.square(img_b))\n",
        "    sigma_c = np.std(chroma)\n",
        "\n",
        "    # item-2\n",
        "    img_lum = img_lum.flatten()\n",
        "    sorted_index = np.argsort(img_lum)\n",
        "    top_index = sorted_index[int(len(img_lum)*0.99)]\n",
        "    bottom_index = sorted_index[int(len(img_lum)*0.01)]\n",
        "    con_lum = img_lum[top_index] - img_lum[bottom_index]\n",
        "\n",
        "    # item-3\n",
        "    chroma = chroma.flatten()\n",
        "    sat = np.divide(chroma, img_lum, out=np.zeros_like(chroma, dtype=np.float64), where=img_lum!=0)\n",
        "    avg_sat = np.mean(sat)\n",
        "\n",
        "    uciqe = sigma_c*coe_Metric[0] + con_lum*coe_Metric[1] + avg_sat*coe_Metric[2]\n",
        "    return uciqe\n",
        "\n",
        "def getPSNR(im_true,im_test):\n",
        "    im_true = np.resize(256, 256)\n",
        "    im_test = np.resize(256, 256)\n",
        "    return peak_signal_noise_ratio(im_true,im_test)\n",
        "\n",
        "def SSIMM(im_true,im_test):\n",
        "    im_true = np.resize(256, 256)\n",
        "    im_test= np.resize(256, 256)\n",
        "    return structural_similarity(im_true,im_test,  multichannel=True)\n",
        "\n",
        "\n",
        "\n",
        "def mu_a(x, alpha_L=0.1, alpha_R=0.1):\n",
        "\n",
        "    # Calculates the asymetric alpha-trimmed\n",
        "    # Média aparada (dispersão)\n",
        "\n",
        "    # sort pixels by intensity - for clipping\n",
        "    x = sorted(x)\n",
        "    # get number of pixels\n",
        "    K = len(x)\n",
        "    # calculate T alpha L and T alpha R\n",
        "    T_a_L = math.ceil(alpha_L * K)\n",
        "    T_a_R = math.floor(alpha_R * K)\n",
        "    # calculate mu_alpha weight\n",
        "    weight = (1 / (K - T_a_L - T_a_R))\n",
        "    # loop through flattened image starting at T_a_L+1 and ending at K-T_a_R\n",
        "    s = int(T_a_L + 1)\n",
        "    e = int(K - T_a_R)\n",
        "    val = sum(x[s:e])\n",
        "    val = weight * val\n",
        "    return val\n",
        "\n",
        "\n",
        "def s_a(x, mu):\n",
        "    val = 0\n",
        "    for pixel in x:\n",
        "        val += math.pow((pixel - mu), 2)\n",
        "    return val / len(x)\n",
        "\n",
        "def sobel(x):\n",
        "    dx = ndimage.sobel(x, 0)\n",
        "    dy = ndimage.sobel(x, 1)\n",
        "    mag = np.hypot(dx, dy)\n",
        "    mag *= 255.0 / np.max(mag)\n",
        "    return mag\n",
        "\n",
        "\n",
        "def eme(x, window_size):\n",
        "      #Enhancement measure estimation\n",
        "      #x.shape[0] = height\n",
        "      #x.shape[1] = width\n",
        "\n",
        "    # if 4 blocks, then 2x2...etc.\n",
        "    k1 = x.shape[1] // window_size\n",
        "    k2 = x.shape[0] // window_size\n",
        "\n",
        "    # weight\n",
        "    w = 2. / (k1 * k2)\n",
        "\n",
        "    blocksize_x = window_size\n",
        "    blocksize_y = window_size\n",
        "\n",
        "    # make sure image is divisible by window_size - doesn't matter if we cut out some pixels\n",
        "    x = x[:blocksize_y * k2, :blocksize_x * k1]\n",
        "\n",
        "    val = 0\n",
        "    for l in range(k1):\n",
        "        for k in range(k2):\n",
        "            block = x[k * window_size:window_size * (k + 1), l * window_size:window_size * (l + 1)]\n",
        "            max_ = np.max(block)\n",
        "            min_ = np.min(block)\n",
        "\n",
        "            # bound checks, can't do log(0)\n",
        "            if min_ == 0.0:\n",
        "                val += 0\n",
        "            elif max_ == 0.0:\n",
        "                val += 0\n",
        "            else:\n",
        "                val += math.log(max_ / min_)\n",
        "    return w * val\n",
        "\n",
        "\n",
        "###########################################\n",
        "#logAMEE\n",
        "###########################################\n",
        "def plip_g(x, mu=1026.0):\n",
        "    return mu - x\n",
        "\n",
        "\n",
        "def plip_theta(g1, g2, k):\n",
        "    g1 = plip_g(g1)\n",
        "    g2 = plip_g(g2)\n",
        "    return k * ((g1 - g2) / (k - g2))\n",
        "\n",
        "\n",
        "def plip_cross(g1, g2, gamma):\n",
        "    g1 = plip_g(g1)\n",
        "    g2 = plip_g(g2)\n",
        "    return g1 + g2 - ((g1 * g2) / (gamma))\n",
        "\n",
        "\n",
        "def plip_diag(c, g, gamma):\n",
        "    g = plip_g(g)\n",
        "    return gamma - (gamma * math.pow((1 - (g / gamma)), c))\n",
        "\n",
        "\n",
        "def plip_multiplication(g1, g2):\n",
        "    return plip_phiInverse(plip_phi(g1) * plip_phi(g2))\n",
        "    # return plip_phiInverse(plip_phi(plip_g(g1)) * plip_phi(plip_g(g2)))\n",
        "\n",
        "\n",
        "def plip_phiInverse(g):\n",
        "    plip_lambda = 1026.0\n",
        "    plip_beta = 1.0\n",
        "    return plip_lambda * (1 - math.pow(math.exp(-g / plip_lambda), 1 / plip_beta));\n",
        "\n",
        "\n",
        "def plip_phi(g):\n",
        "    plip_lambda = 1026.0\n",
        "    plip_beta = 1.0\n",
        "    return -plip_lambda * math.pow(math.log(1 - g / plip_lambda), plip_beta)\n",
        "\n",
        "\n",
        "def _uicm(x):\n",
        "    R = x[:, :, 0].flatten()\n",
        "    G = x[:, :, 1].flatten()\n",
        "    B = x[:, :, 2].flatten()\n",
        "    RG = R - G\n",
        "    YB = ((R + G) / 2) - B\n",
        "    mu_a_RG = mu_a(RG)\n",
        "    mu_a_YB = mu_a(YB)\n",
        "    s_a_RG = s_a(RG, mu_a_RG)\n",
        "    s_a_YB = s_a(YB, mu_a_YB)\n",
        "    l = math.sqrt((math.pow(mu_a_RG, 2) + math.pow(mu_a_YB, 2)))\n",
        "    r = math.sqrt(s_a_RG + s_a_YB)\n",
        "    return (-0.0268 * l) + (0.1586 * r)\n",
        "\n",
        "\n",
        "def _uism(x):\n",
        "    # get image channels\n",
        "    R = x[:, :, 0]\n",
        "    G = x[:, :, 1]\n",
        "    B = x[:, :, 2]\n",
        "\n",
        "    # first apply Sobel edge detector to each RGB component\n",
        "    Rs = sobel(R)\n",
        "    Gs = sobel(G)\n",
        "    Bs = sobel(B)\n",
        "\n",
        "    # multiply the edges detected for each channel by the channel itself\n",
        "    R_edge_map = np.multiply(Rs, R)\n",
        "    G_edge_map = np.multiply(Gs, G)\n",
        "    B_edge_map = np.multiply(Bs, B)\n",
        "\n",
        "    # get eme for each channel\n",
        "    r_eme = eme(R_edge_map, 8)\n",
        "    g_eme = eme(G_edge_map, 8)\n",
        "    b_eme = eme(B_edge_map, 8)\n",
        "\n",
        "    # coefficients\n",
        "    lambda_r = 0.299\n",
        "    lambda_g = 0.587\n",
        "    lambda_b = 0.144\n",
        "\n",
        "    return (lambda_r * r_eme) + (lambda_g * g_eme) + (lambda_b * b_eme)\n",
        "\n",
        "\n",
        "def _uiconm(x, window_size):\n",
        "    plip_lambda = 1026.0\n",
        "    plip_gamma = 1026.0\n",
        "    plip_beta = 1.0\n",
        "    plip_mu = 1026.0\n",
        "    plip_k = 1026.0\n",
        "\n",
        "    # if 4 blocks, then 2x2...etc.\n",
        "    k1 = x.shape[1] // window_size\n",
        "    k2 = x.shape[0] // window_size\n",
        "\n",
        "    # weight\n",
        "    w = -1. / (k1 * k2)\n",
        "\n",
        "    blocksize_x = window_size\n",
        "    blocksize_y = window_size\n",
        "\n",
        "    # make sure image is divisible by window_size - doesn't matter if we cut out some pixels\n",
        "    x = x[:blocksize_y * k2, :blocksize_x * k1]\n",
        "\n",
        "    # entropy scale - higher helps with randomness\n",
        "    alpha = 1\n",
        "\n",
        "    val = 0\n",
        "    for l in range(k1):\n",
        "        for k in range(k2):\n",
        "            block = x[k * window_size:window_size * (k + 1), l * window_size:window_size * (l + 1), :]\n",
        "            max_ = np.max(block)\n",
        "            min_ = np.min(block)\n",
        "\n",
        "            top = max_ - min_\n",
        "            bot = max_ + min_\n",
        "\n",
        "            if math.isnan(top) or math.isnan(bot) or bot == 0.0 or top == 0.0:\n",
        "                val += 0.0\n",
        "            else:\n",
        "                val += alpha * math.pow((top / bot), alpha) * math.log(top / bot)\n",
        "\n",
        "            # try: val += plip_multiplication((top/bot),math.log(top/bot))\n",
        "    return w * val\n",
        "\n",
        "def getUIQM(x):\n",
        "    \"\"\"\n",
        "      Function to return UIQM to be called from other programs\n",
        "      x: image\n",
        "    \"\"\"\n",
        "    x = x.astype(np.float32)\n",
        "    ### from https://ieeexplore.ieee.org/stamp/stamp.jsp?tp=&arnumber=7300447\n",
        "    # c1 = 0.4680; c2 = 0.2745; c3 = 0.2576\n",
        "    ### from https://ieeexplore.ieee.org/stamp/stamp.jsp?tp=&arnumber=7300447\n",
        "    \"\"\"\n",
        "    c1 = 0.0282\n",
        "    c2 = 0.2953\n",
        "    c3 = 3.5753\n",
        "\n",
        "    \"\"\"\n",
        "    #\"\"\"\n",
        "    c1 = 0.4680\n",
        "    c2 = 0.2745\n",
        "    c3 = 0.2576\n",
        "    #\"\"\"\n",
        "    uicm = _uicm(x)\n",
        "    print(f\"UICM: {uicm}\")\n",
        "    uism = _uism(x)\n",
        "    print(f\"UISM: {uism}\")\n",
        "    uiconm = _uiconm(x, 8)\n",
        "    print(f\"UICONM: {uiconm}\")\n",
        "    uiqm = (c1 * uicm) + (c2 * uism) + (c3 * uiconm)\n",
        "    return uiqm\n"
      ]
    },
    {
      "cell_type": "markdown",
      "metadata": {
        "id": "5VnvlrIW1p_5"
      },
      "source": [
        "### **Collect data to txt**"
      ]
    },
    {
      "cell_type": "code",
      "execution_count": null,
      "metadata": {
        "id": "pcRz-N8JB_8K"
      },
      "outputs": [],
      "source": [
        "def escreve(arquivo, vetor):\n",
        "  with open(arquivo, 'w') as writefile:\n",
        "    for h in range(len(vetor)):\n",
        "      writefile.write(str(vetor[h]) + '\\n')"
      ]
    },
    {
      "cell_type": "markdown",
      "metadata": {
        "id": "f3nQPqayu1gn"
      },
      "source": [
        "### **Resize func**"
      ]
    },
    {
      "cell_type": "code",
      "execution_count": null,
      "metadata": {
        "id": "dJSpbUZJutb8"
      },
      "outputs": [],
      "source": [
        "def resize(src, scale_percent):\n",
        "    width = int(src.shape[1] * scale_percent / 100)\n",
        "    height = int(src.shape[0] * scale_percent / 100)\n",
        "    dsize = (width, height)\n",
        "    output = cv2.resize(src, dsize)\n",
        "    return output"
      ]
    },
    {
      "cell_type": "markdown",
      "metadata": {
        "id": "liUbajSOuwjX"
      },
      "source": [
        "### **Best results func**"
      ]
    },
    {
      "cell_type": "code",
      "execution_count": null,
      "metadata": {
        "id": "Rbx1p-wbESVU"
      },
      "outputs": [],
      "source": [
        "#Função que retorna a melhor variação de parâmetros a partir do resultado das métricas de qualidade de im. subaquáticas\n",
        "\n",
        "def maior_valor(lista):\n",
        "  if(len(lista) > 0):\n",
        "\n",
        "    maior_valor = [lista[0][5], lista[0][6]]\n",
        "    maior_indice = 0\n",
        "\n",
        "    for i in range(0, len(lista)):\n",
        "      if((lista[i][5] > maior_valor[0]) and (lista[i][6] > maior_valor[1])):\n",
        "        maior_valor[0] = lista[i][5]\n",
        "        maior_valor[1] = lista[i][6]\n",
        "        maior_indice = i\n",
        "    return maior_valor, maior_indice\n",
        "  return -1, -1"
      ]
    },
    {
      "cell_type": "markdown",
      "metadata": {
        "id": "ZmxN8j8cvKaW"
      },
      "source": [
        "## **Google**"
      ]
    },
    {
      "cell_type": "code",
      "execution_count": null,
      "metadata": {
        "id": "DnRQUqJbvPpJ"
      },
      "outputs": [],
      "source": [
        "from google.colab import files\n",
        "from google.colab.patches import cv2_imshow\n",
        "from matplotlib import pyplot as plt\n",
        "# plt.imshow(imagem, interpolation='nearest')\n",
        "# plt.show()"
      ]
    },
    {
      "cell_type": "markdown",
      "metadata": {
        "id": "gIjiys78LEvV"
      },
      "source": [
        "## **Testes Datasets**"
      ]
    },
    {
      "cell_type": "markdown",
      "metadata": {
        "id": "2YkjaMDC0bf9"
      },
      "source": [
        "### **U45**"
      ]
    },
    {
      "cell_type": "code",
      "execution_count": null,
      "metadata": {
        "id": "iYP3U9WBYHiv"
      },
      "outputs": [],
      "source": [
        "DIR = '/content/drive/MyDrive/UWE/Data/U45_DATASET/U45 Dataset/U45/U45/' #diretório das imagens\n",
        "DIR_results = '/content/drive/MyDrive/UWE/Data/U45_DATASET/U_45_results/'\n",
        "arquivo = '/content/drive/MyDrive/UWE/Data/U45_DATASET/u45_results.txt'\n",
        "melhores_resultados = [] #vetor que receberá os resultados\n",
        "\n",
        "#percorrer pasta de arquivos\n",
        "for filename in sorted(os.listdir(DIR)):\n",
        "  resultados=[] #lista que recebe a string contendo os dados (imagem, parâmetros e resultados qualidade)\n",
        "  caminho_img = f'{DIR}/{filename}'\n",
        "\n",
        "  img = cv2.imread(caminho_img)\n",
        "#   imgem = cv2.imread(caminho_img)\n",
        "#   img = resize(imgem, 50)\n",
        "\n",
        "  print(filename)\n",
        "\n",
        "  #parâmetros que serão testados\n",
        "  cci = [0.8, 1.0] #intensidade de correcao de cor\n",
        "  gamma = [0.8, 0.9] #intensidade do gamma\n",
        "  alfa=[0.4, 0.5, 0.6, 0.7] #intensidade do alfa da combinação\n",
        "  beta=[0.4, 0.5, 0.6, 0.7] #intensidade do beta da combinação\n",
        "\n",
        "\n",
        "  for i in range(len(cci)):\n",
        "    for j in range(len(gamma)):\n",
        "      for m in range(len(alfa)):\n",
        "        for n in range(len(beta)):\n",
        "\n",
        "          #image, cci, gamma, alfa, beta, sigma=0.5, intensidade=1.0, brightness=5, contrast=10\n",
        "          restored = UWE(img, cci[i], gamma[j], alfa[m], beta[n])\n",
        "\n",
        "          #metricas de qualidade\n",
        "          uci = getUCIQE(restored)\n",
        "          uiq = getUIQM(restored)\n",
        "\n",
        "          #psnr = peak_signal_noise_ratio(img, restored)\n",
        "          #ssim = structural_similarity(img, restored,  multichannel=True)\n",
        "\n",
        "          string = str(filename), str(cci[i]), str(gamma[j]), str(alfa[m]), str(beta[n]), \"{:.4f}\".format(uci), \"{:.4f}\".format(uiq)\n",
        "          resultados.append(string)\n",
        "\n",
        "  maior, indice = maior_valor(resultados)\n",
        "\n",
        "  if(maior != -1 and indice != -1):\n",
        "    melhores_resultados.append(resultados[indice])\n",
        "\n",
        "  print(f'maior {maior}, indice {indice}, vetor[indice] {resultados[indice]}')\n",
        "\n",
        "  my_str = '_'.join(resultados[indice]) .replace('0', '').replace('.', '').replace('png', \"\") + '.png'\n",
        "  print(my_str)\n",
        "  cv2.imwrite(f'{DIR_results}{str(my_str)}', img)\n",
        "escreve(arquivo, melhores_resultados)"
      ]
    },
    {
      "cell_type": "code",
      "execution_count": null,
      "metadata": {
        "id": "VXLrGzYl2Z9W"
      },
      "outputs": [],
      "source": [
        "import pandas as pd\n",
        "# Read the text file\n",
        "with open('/content/drive/MyDrive/UWE/Data/U45_DATASET/u45_results.txt', 'r') as f:\n",
        "    lines = f.readlines()\n",
        "\n",
        "# Split each line into a list of strings\n",
        "data = [line.strip().replace('(', '').replace(')', '').split(', ') for line in lines]\n",
        "\n",
        "# Create a pandas DataFrame with the data\n",
        "df = pd.DataFrame(data, columns=['Filename', 'CCI', 'Gamma', 'Alpha', 'Beta', 'UIQM', 'UCIQE'])\n",
        "df[['CCI', 'Gamma', 'Alpha', 'Beta', 'UIQM', 'UCIQE']] = df[['CCI', 'Gamma', 'Alpha', 'Beta', 'UIQM', 'UCIQE']].apply(lambda x: x.str.strip(\"'\"))\n",
        "# Convert the non-string columns to float\n",
        "df[['CCI', 'Gamma', 'Alpha', 'Beta', 'UIQM', 'UCIQE']] = df[['CCI', 'Gamma', 'Alpha', 'Beta', 'UIQM', 'UCIQE']].astype(float)\n",
        "\n",
        "# Print the DataFrame\n",
        "print(df)\n",
        "\n",
        "# Save the DataFrame to a CSV file\n",
        "df.to_csv('/content/drive/MyDrive/UWE/Data/U45_DATASET/u45results.csv', index=False)\n"
      ]
    },
    {
      "cell_type": "code",
      "execution_count": null,
      "metadata": {
        "id": "o2Yq2Kic5OUS"
      },
      "outputs": [],
      "source": [
        "avg_uiqm = df['UIQM'].mean()\n",
        "avg_uciqe = df['UCIQE'].mean()\n",
        "\n",
        "# Create a new DataFrame with the averages\n",
        "df_avg = pd.DataFrame({'UCIQE': [avg_uciqe], 'UIQM': [avg_uiqm]}, index=['Average'])\n",
        "\n",
        "# Print the DataFrame\n",
        "print(df_avg)\n",
        "df.to_csv('/content/drive/MyDrive/UWE/Data/U45_DATASET/u45_results_av.csv', index=False)\n"
      ]
    },
    {
      "cell_type": "markdown",
      "metadata": {
        "id": "Zxxw9H_Qv0aW"
      },
      "source": [
        "### **UIEB**"
      ]
    },
    {
      "cell_type": "code",
      "execution_count": null,
      "metadata": {
        "id": "8cozhFl3v2eD"
      },
      "outputs": [],
      "source": [
        "DIR = '/content/drive/MyDrive/UWE/Data/tudo/' #diretório das imagens\n",
        "DIR_results = '/content/drive/MyDrive/UWE/Data/all/'\n",
        "arquivo = '/content/drive/MyDrive/UWE/Data/all_results.txt'\n",
        "melhores_resultados = [] #vetor que receberá os resultados\n",
        "\n",
        "#percorrer pasta de arquivos\n",
        "for filename in sorted(os.listdir(DIR)):\n",
        "  resultados=[] #lista que recebe a string contendo os dados (imagem, parâmetros e resultados qualidade)\n",
        "  caminho_img = f'{DIR}/{filename}'\n",
        "\n",
        "#   img = cv2.imread(caminho_img)\n",
        "  imgem = cv2.imread(caminho_img)\n",
        "  img = resize(imgem, 35)\n",
        "\n",
        "  print(filename)\n",
        "\n",
        "  #parâmetros que serão testados\n",
        "  cci = [0.7, 0.8, 0.9, 1.0] #intensidade de correcao de cor\n",
        "  gamma = [0.6, 0.7, 0.8, 0.9] #intensidade do gamma\n",
        "  alfa=[0.4, 0.5, 0.6, 0.7] #intensidade do alfa da combinação\n",
        "  beta=[0.4, 0.5, 0.6, 0.7] #intensidade do beta da combinação\n",
        "\n",
        "\n",
        "  for i in range(len(cci)):\n",
        "    for j in range(len(gamma)):\n",
        "      for m in range(len(alfa)):\n",
        "        for n in range(len(beta)):\n",
        "\n",
        "          #image, cci, gamma, alfa, beta, sigma=0.5, intensidade=1.0, brightness=5, contrast=10\n",
        "          restored = UWE(img, cci[i], gamma[j], alfa[m], beta[n])\n",
        "\n",
        "          #metricas de qualidade\n",
        "          uci = getUCIQE(restored)\n",
        "          uiq = getUIQM(restored)\n",
        "\n",
        "          #psnr = peak_signal_noise_ratio(img, restored)\n",
        "          #ssim = structural_similarity(img, restored,  multichannel=True)\n",
        "\n",
        "          string = str(filename), str(cci[i]), str(gamma[j]), str(alfa[m]), str(beta[n]), \"{:.4f}\".format(uci), \"{:.4f}\".format(uiq)\n",
        "          resultados.append(string)\n",
        "\n",
        "  maior, indice = maior_valor(resultados)\n",
        "\n",
        "  if(maior != -1 and indice != -1):\n",
        "    melhores_resultados.append(resultados[indice])\n",
        "\n",
        "#   print(f'maior {maior}, indice {indice}, vetor[indice] {resultados[indice]}')\n",
        "  print(f'{resultados[indice]}')\n",
        "\n",
        "  my_str = '_'.join(resultados[indice]) .replace('0', '').replace('.', '').replace('png', \"\") + '.png'\n",
        "  print(my_str)\n",
        "  cv2.imwrite(f'{DIR_results}{str(my_str)}', img)\n",
        "escreve(arquivo, melhores_resultados)\n"
      ]
    },
    {
      "cell_type": "code",
      "execution_count": null,
      "metadata": {
        "id": "fJaVtlYy8Eqt"
      },
      "outputs": [],
      "source": [
        "with open('/content/drive/MyDrive/UWE/Data/UIEB_DATASET/UIEB Dataset/uieb_resultados.txt', 'r') as f:\n",
        "    lines = f.readlines()\n",
        "\n",
        "# Split each line into a list of strings\n",
        "data = [line.strip().replace('(', '').replace(')', '').split(', ') for line in lines]\n",
        "\n",
        "# Create a pandas DataFrame with the data\n",
        "df = pd.DataFrame(data, columns=['Filename', 'CCI', 'Gamma', 'Alpha', 'Beta', 'UIQM', 'UCIQE'])\n",
        "df[['CCI', 'Gamma', 'Alpha', 'Beta', 'UIQM', 'UCIQE']] = df[['CCI', 'Gamma', 'Alpha', 'Beta', 'UIQM', 'UCIQE']].apply(lambda x: x.str.strip(\"'\"))\n",
        "# Convert the non-string columns to float\n",
        "df[['CCI', 'Gamma', 'Alpha', 'Beta', 'UIQM', 'UCIQE']] = df[['CCI', 'Gamma', 'Alpha', 'Beta', 'UIQM', 'UCIQE']].astype(float)\n",
        "\n",
        "# Print the DataFrame\n",
        "print(df)\n",
        "\n",
        "# Save the DataFrame to a CSV file\n",
        "df.to_csv('/content/drive/MyDrive/UWE/Data/UIEB_DATASET/UIEB Dataset/uieb_resultados.csv', index=False)\n"
      ]
    },
    {
      "cell_type": "code",
      "execution_count": null,
      "metadata": {
        "id": "IUZCju3h8Z6z"
      },
      "outputs": [],
      "source": [
        "avg_uiqm = df['UIQM'].mean()\n",
        "avg_uciqe = df['UCIQE'].mean()\n",
        "\n",
        "# Create a new DataFrame with the averages\n",
        "df_avg = pd.DataFrame({'UCIQE': [avg_uciqe], 'UIQM': [avg_uiqm]}, index=['Average'])\n",
        "\n",
        "# Print the DataFrame\n",
        "print(df_avg)\n",
        "df.to_csv('/content/drive/MyDrive/UWE/Data/UIEB_DATASET/UIEB Dataset/uieb_resultados_av.csv', index=False)\n"
      ]
    },
    {
      "cell_type": "markdown",
      "metadata": {
        "id": "0M_oh2a9HZwd"
      },
      "source": [
        "### **CARU**"
      ]
    },
    {
      "cell_type": "code",
      "execution_count": null,
      "metadata": {
        "id": "Gv2Pwtp9HeGZ"
      },
      "outputs": [],
      "source": [
        "DIR = '/content/drive/MyDrive/UWE/Data/U45_DATASET/U45 Dataset/U45/U45' #diretório das imagens\n",
        "arquivo = '/content/drive/MyDrive/UWE/Data/u45_melhores.txt' #arquivo texto onde serão registrados os resultados\n",
        "\n",
        "melhores_resultados = [] #vetor que receberá os resultados\n",
        "\n",
        "#percorrer pasta de arquivos\n",
        "for filename in os.listdir(DIR):\n",
        "\n",
        "  resultados=[] #lista que recebe a string contendo os dados (imagem, parâmetros e resultados qualidade)\n",
        "\n",
        "  caminho_img = f'{DIR}/{filename}'\n",
        "\n",
        "  img = cv2.imread(caminho_img)\n",
        "\n",
        "  #parâmetros que serão testados\n",
        "  cci = [0.8, 1.0] #intensidade de correcao de cor\n",
        "  gamma = [0.6, 0.7] #intensidade do gamma\n",
        "  alfa=[0.4, 0.5, 0.6, 0.7] #intensidade do alfa da combinação\n",
        "  beta=[0.4, 0.5, 0.6, 0.7] #intensidade do beta da combinação\n",
        "\n",
        "\n",
        "  for i in range(len(cci)):\n",
        "    for j in range(len(gamma)):\n",
        "      for m in range(len(alfa)):\n",
        "        for n in range(len(beta)):\n",
        "\n",
        "            #image, cci, gamma, alfa, beta, sigma=0.5, intensidade=1.0, brightness=5, contrast=10\n",
        "          restored = UWE(img, cci[i], gamma[j], alfa[m], beta[n])\n",
        "\n",
        "          #metricas de qualidade\n",
        "          uci = getUCIQE(restored)\n",
        "          uiq = getUIQM(restored)\n",
        "\n",
        "          #psnr = peak_signal_noise_ratio(img, restored)\n",
        "          #ssim = structural_similarity(img, restored,  multichannel=True)\n",
        "\n",
        "          #se resultados forem superiores ao minimo esperado\n",
        "          if uiq>=4.0 and uci>=0.8:\n",
        "            string = str(filename), str(cci[i]), str(gamma[j]), str(alfa[m]), str(beta[n]), \"{:.4f}\".format(uci), \"{:.4f}\".format(uiq)\n",
        "            resultados.append(string)\n",
        "\n",
        "\n",
        "  maior, indice = maior_valor(resultados)\n",
        "  melhores_resultados.append(resultados[indice])\n",
        "  #print(f'maior {maior}, indice {indice}, vetor[indice] {resultados[indice]}')\n",
        "\n",
        "#print(melhores_resultados)\n",
        "#[print(melhor) for melhor in melhores_resultados]\n",
        "\n",
        "\n",
        "print(*melhores_resultados, sep = \"\\n\")\n",
        "\n",
        "escreve(arquivo, melhores_resultados)"
      ]
    }
  ],
  "metadata": {
    "colab": {
      "collapsed_sections": [
        "2YkjaMDC0bf9",
        "Zxxw9H_Qv0aW",
        "0M_oh2a9HZwd"
      ],
      "provenance": []
    },
    "kernelspec": {
      "display_name": "Python 3",
      "name": "python3"
    },
    "language_info": {
      "name": "python"
    }
  },
  "nbformat": 4,
  "nbformat_minor": 0
}
